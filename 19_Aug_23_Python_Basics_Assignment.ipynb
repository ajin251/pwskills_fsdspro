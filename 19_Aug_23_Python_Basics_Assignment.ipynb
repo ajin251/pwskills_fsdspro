{
  "nbformat": 4,
  "nbformat_minor": 0,
  "metadata": {
    "colab": {
      "provenance": []
    },
    "kernelspec": {
      "name": "python3",
      "display_name": "Python 3"
    },
    "language_info": {
      "name": "python"
    }
  },
  "cells": [
    {
      "cell_type": "code",
      "execution_count": 13,
      "metadata": {
        "id": "0dmH5r45UdtJ",
        "colab": {
          "base_uri": "https://localhost:8080/"
        },
        "outputId": "ff0e30ed-da3d-40f6-b6b4-09732fb85e27"
      },
      "outputs": [
        {
          "output_type": "stream",
          "name": "stdout",
          "text": [
            "New Value of x is 2\n",
            "New Value of y is 1\n"
          ]
        }
      ],
      "source": [
        "# TOPIC: Python Basics Variable\n",
        "'''Answer 1 - two variables, `x` and `y`, and assign them integer values. Swap the\n",
        "values of these variables without using any temporary variable.'''\n",
        "x=1 #Given Value of x\n",
        "y=2 #Given Value of y\n",
        "\n",
        "y=x\n",
        "x+=x\n",
        "print(\"New Value of x is \" + str(x) ) #Swapped Value of x\n",
        "print(\"New Value of y is \" + str(y) ) #Swapped Value of y\n"
      ]
    },
    {
      "cell_type": "code",
      "source": [
        "# TOPIC: Python Basics Variable\n",
        "# Answer 2 - To calculate the area of a rectangle.\n",
        "print(\"Enter Length of Rectangle\")\n",
        "length_rect = int(input())\n",
        "print(\"Enter Width of Rectangle\")\n",
        "width_rect = int(input())\n",
        "area_rect = (length_rect * width_rect) #calculating\n",
        "print(\"Area of Rectangle is \" + str((area_rect)))"
      ],
      "metadata": {
        "id": "zk24JWexWGAB"
      },
      "execution_count": null,
      "outputs": []
    },
    {
      "cell_type": "code",
      "source": [
        "# TOPIC: Python Basics Variable\n",
        "# Answer 3 - that converts temperatures from Celsius to Fahrenheit\n",
        "print(\"Enter Temperature in Celsius\")\n",
        "temp_celsius = float(input())\n",
        "temp_fahreheit = ((temp_celsius * (9/5)) + 32) #converting\n",
        "print(\"Temperature in Fahreheit is \" + str((temp_fahreheit)))"
      ],
      "metadata": {
        "id": "9Og5e47qYoXf"
      },
      "execution_count": null,
      "outputs": []
    },
    {
      "cell_type": "code",
      "source": [
        "#TOPIC: String Based Questions\n",
        "# Answer 1 - To prints the length of the string.\n",
        "print(\"Enter Name\")\n",
        "s1= str(input())\n",
        "print(\"Length in the given name is \" + str(len(s1)))"
      ],
      "metadata": {
        "id": "r2idiAcnaGqF"
      },
      "execution_count": null,
      "outputs": []
    },
    {
      "cell_type": "code",
      "source": [
        "#TOPIC: String Based Questions\n",
        "# Answer 5 - To Print the modified string without spaces.\n",
        "print(\"Enter Description\")\n",
        "s1=input()\n",
        "s2=s1.strip() #removing whitespace from starting and ending\n",
        "s3=s2.replace(\" \",\"\") #replacing space bwtween string\n",
        "print(\"Modified String without spaces is as below \\n\\n\" + str(s3))"
      ],
      "metadata": {
        "id": "bsWoE8tZchvQ"
      },
      "execution_count": null,
      "outputs": []
    },
    {
      "cell_type": "code",
      "source": [
        "#TOPIC: String Based Questions\n",
        "# Answer 3 - print the reversed string.\n",
        "print(\"Enter Description\")\n",
        "s1=input()\n",
        "print(s1[::-1]) #reversing"
      ],
      "metadata": {
        "id": "XBQ084IDd4QK",
        "colab": {
          "base_uri": "https://localhost:8080/"
        },
        "outputId": "b44ce528-60f9-4070-b11d-0429469ff89d"
      },
      "execution_count": 5,
      "outputs": [
        {
          "output_type": "stream",
          "name": "stdout",
          "text": [
            "messsssssssssssssssssssi\n",
            "isssssssssssssssssssssem\n"
          ]
        }
      ]
    },
    {
      "cell_type": "code",
      "source": [
        "#TOPIC: String Based Questions\n",
        "# Answer 4 - To checks if it is a palindrome\n",
        "print(\"Enter Word to check if its palindrome\")\n",
        "s1=input()\n",
        "s2=s1[len(s1)::-1]\n",
        "if (s1==s2):\n",
        "  print(\"Is Palindrome\")\n",
        "else:\n",
        "    print(\"Not Palindrome\")"
      ],
      "metadata": {
        "id": "AVr2Lbucfvie",
        "colab": {
          "base_uri": "https://localhost:8080/"
        },
        "outputId": "fc83d618-f571-40ed-dfaf-e3d854b41c5b"
      },
      "execution_count": 6,
      "outputs": [
        {
          "output_type": "stream",
          "name": "stdout",
          "text": [
            "Enter Word to check if its palindrome\n",
            "kinnikinnik\n",
            "Is Palindrome\n"
          ]
        }
      ]
    },
    {
      "cell_type": "code",
      "source": [
        "#TOPIC: String Based Questions\n",
        "''' Answer 2 - Program that takes a sentence from the user and\n",
        "counts the number of vowels (a, e, i, o, u) in the string. '''\n",
        "print(\"Enter Sentence to count number of vowels\")\n",
        "s1=input()\n",
        "print(\"Vowel 'A' in sentence is \" + str((s1.count(\"a\"))+ (s1.count(\"A\"))))\n",
        "print(\"Vowel 'E' in sentence is \" + str((s1.count(\"e\"))+ (s1.count(\"E\"))))\n",
        "print(\"Vowel 'I' in sentence is \" + str((s1.count(\"i\"))+ (s1.count(\"I\"))))\n",
        "print(\"Vowel 'O' in sentence is \" + str((s1.count(\"o\"))+ (s1.count(\"O\"))))\n",
        "print(\"Vowel 'U' in sentence is \" + str((s1.count(\"u\"))+ (s1.count(\"U\"))))"
      ],
      "metadata": {
        "id": "N8eOsL4xhgAv"
      },
      "execution_count": null,
      "outputs": []
    }
  ]
}